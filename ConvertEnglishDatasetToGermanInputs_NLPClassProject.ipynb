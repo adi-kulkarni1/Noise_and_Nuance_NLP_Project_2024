{
  "nbformat": 4,
  "nbformat_minor": 0,
  "metadata": {
    "colab": {
      "provenance": [],
      "gpuType": "T4"
    },
    "kernelspec": {
      "name": "python3",
      "display_name": "Python 3"
    },
    "language_info": {
      "name": "python"
    },
    "accelerator": "GPU"
  },
  "cells": [
    {
      "cell_type": "code",
      "execution_count": null,
      "metadata": {
        "id": "vxxi4SGqwAlX"
      },
      "outputs": [],
      "source": [
        "import sys\n",
        "!{sys.executable} -m pip install deep_translator"
      ]
    },
    {
      "cell_type": "code",
      "source": [
        "import pandas as pd\n",
        "from deep_translator import GoogleTranslator\n",
        "from tqdm import tqdm"
      ],
      "metadata": {
        "id": "5j2Bmctnyozq"
      },
      "execution_count": null,
      "outputs": []
    },
    {
      "cell_type": "code",
      "source": [
        "file_path = '/content/NLP Class Project Data - OfficialInputData.csv'\n",
        "df = pd.read_csv(file_path)"
      ],
      "metadata": {
        "id": "rYhkW4ubwDhY"
      },
      "execution_count": null,
      "outputs": []
    },
    {
      "cell_type": "code",
      "source": [
        "# Function to translate English text to German using Google Translate\n",
        "def translate_text(text):\n",
        "    translation = GoogleTranslator(source='en', target='de').translate(text)\n",
        "    return translation"
      ],
      "metadata": {
        "id": "G-J_LpnZyhv9"
      },
      "execution_count": null,
      "outputs": []
    },
    {
      "cell_type": "code",
      "source": [
        "# Store the German translated inputs\n",
        "translated_texts = []\n",
        "\n",
        "# For each English input (generated from ChatGPT), add the translated German to the list\n",
        "for text in tqdm(df['English'], desc=\"Translating\"):\n",
        "    translated_texts.append(translate_text(text))"
      ],
      "metadata": {
        "id": "33QslEJ7zQSu"
      },
      "execution_count": null,
      "outputs": []
    },
    {
      "cell_type": "code",
      "source": [
        "# Create a new column in the dataframe to store the German inputs\n",
        "df['German Google Translate (input)'] = translated_texts"
      ],
      "metadata": {
        "id": "w41L9Dw00UCF"
      },
      "execution_count": null,
      "outputs": []
    },
    {
      "cell_type": "code",
      "source": [
        "# Output to Excel file\n",
        "df.to_excel('DatasetNLPProject.xlsx', index=False)"
      ],
      "metadata": {
        "id": "bcg_YzdN4mwb"
      },
      "execution_count": null,
      "outputs": []
    }
  ]
}